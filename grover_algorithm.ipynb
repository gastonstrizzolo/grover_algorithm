{
  "cells": [
    {
      "cell_type": "code",
      "execution_count": null,
      "metadata": {
        "id": "jAuMyU7DeUJY",
        "colab": {
          "base_uri": "https://localhost:8080/"
        },
        "outputId": "58a3554e-2974-4c61-a0eb-a858527a2413"
      },
      "outputs": [
        {
          "output_type": "stream",
          "name": "stdout",
          "text": [
            "Looking in indexes: https://pypi.org/simple, https://us-python.pkg.dev/colab-wheels/public/simple/\n",
            "Requirement already satisfied: qiskit in /usr/local/lib/python3.10/dist-packages (0.43.1)\n",
            "Requirement already satisfied: qiskit-terra==0.24.1 in /usr/local/lib/python3.10/dist-packages (from qiskit) (0.24.1)\n",
            "Requirement already satisfied: qiskit-aer==0.12.0 in /usr/local/lib/python3.10/dist-packages (from qiskit) (0.12.0)\n",
            "Requirement already satisfied: qiskit-ibmq-provider==0.20.2 in /usr/local/lib/python3.10/dist-packages (from qiskit) (0.20.2)\n",
            "Requirement already satisfied: numpy>=1.16.3 in /usr/local/lib/python3.10/dist-packages (from qiskit-aer==0.12.0->qiskit) (1.22.4)\n",
            "Requirement already satisfied: scipy>=1.0 in /usr/local/lib/python3.10/dist-packages (from qiskit-aer==0.12.0->qiskit) (1.10.1)\n",
            "Requirement already satisfied: requests>=2.19 in /usr/local/lib/python3.10/dist-packages (from qiskit-ibmq-provider==0.20.2->qiskit) (2.27.1)\n",
            "Requirement already satisfied: requests-ntlm<=1.1.0 in /usr/local/lib/python3.10/dist-packages (from qiskit-ibmq-provider==0.20.2->qiskit) (1.1.0)\n",
            "Requirement already satisfied: urllib3>=1.21.1 in /usr/local/lib/python3.10/dist-packages (from qiskit-ibmq-provider==0.20.2->qiskit) (1.26.15)\n",
            "Requirement already satisfied: python-dateutil>=2.8.0 in /usr/local/lib/python3.10/dist-packages (from qiskit-ibmq-provider==0.20.2->qiskit) (2.8.2)\n",
            "Requirement already satisfied: websocket-client>=1.5.1 in /usr/local/lib/python3.10/dist-packages (from qiskit-ibmq-provider==0.20.2->qiskit) (1.5.1)\n",
            "Requirement already satisfied: websockets>=10.0 in /usr/local/lib/python3.10/dist-packages (from qiskit-ibmq-provider==0.20.2->qiskit) (11.0.3)\n",
            "Requirement already satisfied: rustworkx>=0.12.0 in /usr/local/lib/python3.10/dist-packages (from qiskit-terra==0.24.1->qiskit) (0.13.0)\n",
            "Requirement already satisfied: ply>=3.10 in /usr/local/lib/python3.10/dist-packages (from qiskit-terra==0.24.1->qiskit) (3.11)\n",
            "Requirement already satisfied: psutil>=5 in /usr/local/lib/python3.10/dist-packages (from qiskit-terra==0.24.1->qiskit) (5.9.5)\n",
            "Requirement already satisfied: sympy>=1.3 in /usr/local/lib/python3.10/dist-packages (from qiskit-terra==0.24.1->qiskit) (1.11.1)\n",
            "Requirement already satisfied: dill>=0.3 in /usr/local/lib/python3.10/dist-packages (from qiskit-terra==0.24.1->qiskit) (0.3.6)\n",
            "Requirement already satisfied: stevedore>=3.0.0 in /usr/local/lib/python3.10/dist-packages (from qiskit-terra==0.24.1->qiskit) (5.1.0)\n",
            "Requirement already satisfied: symengine<0.10,>=0.9 in /usr/local/lib/python3.10/dist-packages (from qiskit-terra==0.24.1->qiskit) (0.9.2)\n",
            "Requirement already satisfied: six>=1.5 in /usr/local/lib/python3.10/dist-packages (from python-dateutil>=2.8.0->qiskit-ibmq-provider==0.20.2->qiskit) (1.16.0)\n",
            "Requirement already satisfied: certifi>=2017.4.17 in /usr/local/lib/python3.10/dist-packages (from requests>=2.19->qiskit-ibmq-provider==0.20.2->qiskit) (2022.12.7)\n",
            "Requirement already satisfied: charset-normalizer~=2.0.0 in /usr/local/lib/python3.10/dist-packages (from requests>=2.19->qiskit-ibmq-provider==0.20.2->qiskit) (2.0.12)\n",
            "Requirement already satisfied: idna<4,>=2.5 in /usr/local/lib/python3.10/dist-packages (from requests>=2.19->qiskit-ibmq-provider==0.20.2->qiskit) (3.4)\n",
            "Requirement already satisfied: ntlm-auth>=1.0.2 in /usr/local/lib/python3.10/dist-packages (from requests-ntlm<=1.1.0->qiskit-ibmq-provider==0.20.2->qiskit) (1.5.0)\n",
            "Requirement already satisfied: cryptography>=1.3 in /usr/local/lib/python3.10/dist-packages (from requests-ntlm<=1.1.0->qiskit-ibmq-provider==0.20.2->qiskit) (40.0.2)\n",
            "Requirement already satisfied: pbr!=2.1.0,>=2.0.0 in /usr/local/lib/python3.10/dist-packages (from stevedore>=3.0.0->qiskit-terra==0.24.1->qiskit) (5.11.1)\n",
            "Requirement already satisfied: mpmath>=0.19 in /usr/local/lib/python3.10/dist-packages (from sympy>=1.3->qiskit-terra==0.24.1->qiskit) (1.3.0)\n",
            "Requirement already satisfied: cffi>=1.12 in /usr/local/lib/python3.10/dist-packages (from cryptography>=1.3->requests-ntlm<=1.1.0->qiskit-ibmq-provider==0.20.2->qiskit) (1.15.1)\n",
            "Requirement already satisfied: pycparser in /usr/local/lib/python3.10/dist-packages (from cffi>=1.12->cryptography>=1.3->requests-ntlm<=1.1.0->qiskit-ibmq-provider==0.20.2->qiskit) (2.21)\n",
            "Looking in indexes: https://pypi.org/simple, https://us-python.pkg.dev/colab-wheels/public/simple/\n",
            "Requirement already satisfied: numpy in /usr/local/lib/python3.10/dist-packages (1.22.4)\n",
            "Looking in indexes: https://pypi.org/simple, https://us-python.pkg.dev/colab-wheels/public/simple/\n",
            "\u001b[31mERROR: Could not find a version that satisfies the requirement matplotplib (from versions: none)\u001b[0m\u001b[31m\n",
            "\u001b[0m\u001b[31mERROR: No matching distribution found for matplotplib\u001b[0m\u001b[31m\n",
            "\u001b[0mLooking in indexes: https://pypi.org/simple, https://us-python.pkg.dev/colab-wheels/public/simple/\n",
            "Requirement already satisfied: pylatexenc in /usr/local/lib/python3.10/dist-packages (2.10)\n"
          ]
        }
      ],
      "source": [
        "!pip install qiskit\n",
        "!pip install numpy\n",
        "!pip install matplotplib\n",
        "!pip install pylatexenc\n",
        "# Si tirar error de que no estan instaladas las librerias, descomentar las lineas de arriba 'pip install ...'\n",
        "\n",
        "from qiskit import QuantumCircuit, execute\n",
        "import numpy as np\n",
        "from qiskit.extensions import UnitaryGate\n",
        "from qiskit.visualization import plot_histogram\n",
        "from qiskit import Aer"
      ]
    },
    {
      "cell_type": "markdown",
      "metadata": {
        "id": "aexDoRjoeUJg"
      },
      "source": [
        "## Paso 1\n",
        "### Preparar el estado\n"
      ]
    },
    {
      "cell_type": "code",
      "execution_count": null,
      "metadata": {
        "id": "iTYhbV_XeUJi"
      },
      "outputs": [],
      "source": [
        "def inicializar(circuito, qubits):\n",
        "    \"\"\"Aplicamos Hadamard a los qubits\"\"\"\n",
        "    for q in qubits:\n",
        "        circuito.h(q)\n",
        "    return circuito"
      ]
    },
    {
      "cell_type": "code",
      "execution_count": null,
      "metadata": {
        "colab": {
          "base_uri": "https://localhost:8080/",
          "height": 156
        },
        "id": "psiyCbLMeUJi",
        "outputId": "c29c8b0c-9d26-4fd1-e415-b420be58dbfb"
      },
      "outputs": [
        {
          "output_type": "execute_result",
          "data": {
            "text/plain": [
              "     ┌───┐ ░  ░ \n",
              "q_0: ┤ H ├─░──░─\n",
              "     ├───┤ ░  ░ \n",
              "q_1: ┤ H ├─░──░─\n",
              "     ├───┤ ░  ░ \n",
              "q_2: ┤ H ├─░──░─\n",
              "     └───┘ ░  ░ \n",
              "q_3: ───────────\n",
              "                "
            ],
            "text/html": [
              "<pre style=\"word-wrap: normal;white-space: pre;background: #fff0;line-height: 1.1;font-family: &quot;Courier New&quot;,Courier,monospace\">     ┌───┐ ░  ░ \n",
              "q_0: ┤ H ├─░──░─\n",
              "     ├───┤ ░  ░ \n",
              "q_1: ┤ H ├─░──░─\n",
              "     ├───┤ ░  ░ \n",
              "q_2: ┤ H ├─░──░─\n",
              "     └───┘ ░  ░ \n",
              "q_3: ───────────\n",
              "                </pre>"
            ]
          },
          "metadata": {},
          "execution_count": 3
        }
      ],
      "source": [
        "cantidad_qubits = 4\n",
        "mi_circuito = QuantumCircuit(cantidad_qubits)\n",
        "respuesta = [5]\n",
        "\n",
        "mi_circuito = inicializar(mi_circuito, [0,1,2])\n",
        "mi_circuito.barrier(0, 1, 2)\n",
        "mi_circuito.barrier(0, 1, 2)\n",
        "mi_circuito.draw()"
      ]
    },
    {
      "cell_type": "markdown",
      "metadata": {
        "id": "VLzkJCbgeUJl"
      },
      "source": [
        "### Paso 2\n",
        "El oraculo"
      ]
    },
    {
      "cell_type": "markdown",
      "metadata": {
        "id": "suv5-osjLeFR"
      },
      "source": [
        "Implementación 1"
      ]
    },
    {
      "cell_type": "code",
      "execution_count": null,
      "metadata": {
        "id": "xKTDUrY-LeFR",
        "outputId": "02c4a78c-7670-4535-b757-3103075e25db",
        "colab": {
          "base_uri": "https://localhost:8080/"
        }
      },
      "outputs": [
        {
          "output_type": "stream",
          "name": "stdout",
          "text": [
            "Matriz antes de aplicar oraculo\n",
            "[[-1.  0.  0.  0.  0.  0.  0.  0.  0.  0.  0.  0.  0.  0.  0.  0.]\n",
            " [ 0. -1.  0.  0.  0.  0.  0.  0.  0.  0.  0.  0.  0.  0.  0.  0.]\n",
            " [ 0.  0. -1.  0.  0.  0.  0.  0.  0.  0.  0.  0.  0.  0.  0.  0.]\n",
            " [ 0.  0.  0. -1.  0.  0.  0.  0.  0.  0.  0.  0.  0.  0.  0.  0.]\n",
            " [ 0.  0.  0.  0. -1.  0.  0.  0.  0.  0.  0.  0.  0.  0.  0.  0.]\n",
            " [ 0.  0.  0.  0.  0. -1.  0.  0.  0.  0.  0.  0.  0.  0.  0.  0.]\n",
            " [ 0.  0.  0.  0.  0.  0. -1.  0.  0.  0.  0.  0.  0.  0.  0.  0.]\n",
            " [ 0.  0.  0.  0.  0.  0.  0. -1.  0.  0.  0.  0.  0.  0.  0.  0.]\n",
            " [ 0.  0.  0.  0.  0.  0.  0.  0. -1.  0.  0.  0.  0.  0.  0.  0.]\n",
            " [ 0.  0.  0.  0.  0.  0.  0.  0.  0. -1.  0.  0.  0.  0.  0.  0.]\n",
            " [ 0.  0.  0.  0.  0.  0.  0.  0.  0.  0. -1.  0.  0.  0.  0.  0.]\n",
            " [ 0.  0.  0.  0.  0.  0.  0.  0.  0.  0.  0. -1.  0.  0.  0.  0.]\n",
            " [ 0.  0.  0.  0.  0.  0.  0.  0.  0.  0.  0.  0. -1.  0.  0.  0.]\n",
            " [ 0.  0.  0.  0.  0.  0.  0.  0.  0.  0.  0.  0.  0. -1.  0.  0.]\n",
            " [ 0.  0.  0.  0.  0.  0.  0.  0.  0.  0.  0.  0.  0.  0. -1.  0.]\n",
            " [ 0.  0.  0.  0.  0.  0.  0.  0.  0.  0.  0.  0.  0.  0.  0. -1.]]\n",
            "\n",
            "Matriz después de aplicar el oráculo\n",
            "[[ 1.  0.  0.  0.  0.  0.  0.  0.  0.  0.  0.  0.  0.  0.  0.  0.]\n",
            " [ 0.  1.  0.  0.  0.  0.  0.  0.  0.  0.  0.  0.  0.  0.  0.  0.]\n",
            " [ 0.  0.  1.  0.  0.  0.  0.  0.  0.  0.  0.  0.  0.  0.  0.  0.]\n",
            " [ 0.  0.  0.  1.  0.  0.  0.  0.  0.  0.  0.  0.  0.  0.  0.  0.]\n",
            " [ 0.  0.  0.  0.  1.  0.  0.  0.  0.  0.  0.  0.  0.  0.  0.  0.]\n",
            " [ 0.  0.  0.  0.  0. -1.  0.  0.  0.  0.  0.  0.  0.  0.  0.  0.]\n",
            " [ 0.  0.  0.  0.  0.  0.  1.  0.  0.  0.  0.  0.  0.  0.  0.  0.]\n",
            " [ 0.  0.  0.  0.  0.  0.  0.  1.  0.  0.  0.  0.  0.  0.  0.  0.]\n",
            " [ 0.  0.  0.  0.  0.  0.  0.  0.  1.  0.  0.  0.  0.  0.  0.  0.]\n",
            " [ 0.  0.  0.  0.  0.  0.  0.  0.  0.  1.  0.  0.  0.  0.  0.  0.]\n",
            " [ 0.  0.  0.  0.  0.  0.  0.  0.  0.  0.  1.  0.  0.  0.  0.  0.]\n",
            " [ 0.  0.  0.  0.  0.  0.  0.  0.  0.  0.  0.  1.  0.  0.  0.  0.]\n",
            " [ 0.  0.  0.  0.  0.  0.  0.  0.  0.  0.  0.  0.  1.  0.  0.  0.]\n",
            " [ 0.  0.  0.  0.  0.  0.  0.  0.  0.  0.  0.  0.  0.  1.  0.  0.]\n",
            " [ 0.  0.  0.  0.  0.  0.  0.  0.  0.  0.  0.  0.  0.  0.  1.  0.]\n",
            " [ 0.  0.  0.  0.  0.  0.  0.  0.  0.  0.  0.  0.  0.  0.  0.  1.]]\n"
          ]
        }
      ],
      "source": [
        "def oraculo(i, respuesta):\n",
        "    if i in respuesta:\n",
        "        return 1\n",
        "    else:\n",
        "        return 0\n",
        "matriz = np.diag((-1) * np.ones(2**cantidad_qubits))\n",
        "print(\"Matriz antes de aplicar oraculo\")\n",
        "print(matriz)\n",
        "for i in range(matriz.shape[0]):\n",
        "    matriz[i, i] = matriz[i, i] ** oraculo(i, respuesta)\n",
        "print(\"\\nMatriz después de aplicar el oráculo\")\n",
        "print(matriz)\n",
        "matriz_oraculo = UnitaryGate(matriz, label=\"Oráculo\")"
      ]
    },
    {
      "cell_type": "markdown",
      "metadata": {
        "id": "J2v7pzYELeFR"
      },
      "source": [
        "Implementación 2"
      ]
    },
    {
      "cell_type": "code",
      "execution_count": null,
      "metadata": {
        "id": "c_icYN4mLeFS"
      },
      "outputs": [],
      "source": [
        "def compuerta_oraculo(respuesta):\n",
        "    oraculo = QuantumCircuit(3)\n",
        "\n",
        "    if  0 in respuesta:\n",
        "        oraculo.x(0)\n",
        "        oraculo.x(1)\n",
        "        oraculo.x(2)\n",
        "\n",
        "        oraculo.h(2)\n",
        "        oraculo.ccx(0, 1, 2)\n",
        "        oraculo.h(2)\n",
        "\n",
        "        oraculo.x(2)\n",
        "        oraculo.x(1)\n",
        "        oraculo.x(0)\n",
        "\n",
        "    elif 1 in respuesta:\n",
        "        oraculo.x(1)\n",
        "        oraculo.x(2)\n",
        "\n",
        "        oraculo.h(2)\n",
        "        oraculo.ccx(0, 1, 2)\n",
        "        oraculo.h(2)\n",
        "\n",
        "        oraculo.x(2)\n",
        "        oraculo.x(1)\n",
        "\n",
        "    elif 2 in respuesta:\n",
        "        oraculo.x(0)\n",
        "        oraculo.x(2)\n",
        "\n",
        "        oraculo.h(2)\n",
        "        oraculo.ccx(0, 1, 2)\n",
        "        oraculo.h(2)\n",
        "\n",
        "        oraculo.x(2)\n",
        "        oraculo.x(0)\n",
        "\n",
        "    elif 3 in respuesta:\n",
        "        oraculo.x(0)\n",
        "\n",
        "        oraculo.h(2)\n",
        "        oraculo.ccx(0, 1, 2)\n",
        "        oraculo.h(2)\n",
        "\n",
        "        oraculo.x(2)\n",
        "\n",
        "\n",
        "    elif 4 in respuesta:\n",
        "        oraculo.x(0)\n",
        "        oraculo.x(1)\n",
        "\n",
        "        oraculo.h(2)\n",
        "        oraculo.ccx(0, 1, 2)\n",
        "        oraculo.h(2)\n",
        "\n",
        "        oraculo.x(1)\n",
        "        oraculo.x(0)\n",
        "\n",
        "    elif 5 in respuesta:\n",
        "        oraculo.x(1)\n",
        "\n",
        "        oraculo.h(2)\n",
        "        oraculo.ccx(0, 1, 2)\n",
        "        oraculo.h(2)\n",
        "\n",
        "        oraculo.x(1)\n",
        "\n",
        "    elif 6 in respuesta:\n",
        "        oraculo.x(0)\n",
        "\n",
        "        oraculo.h(2)\n",
        "        oraculo.ccx(0, 1, 2)\n",
        "        oraculo.h(2)\n",
        "\n",
        "        oraculo.x(0)\n",
        "\n",
        "\n",
        "    elif 7 in respuesta:\n",
        "        oraculo.h(2)\n",
        "        oraculo.ccx(0, 1, 2)\n",
        "        oraculo.h(2)\n",
        "\n",
        "\n",
        "    compuerta_oraculo = oraculo.to_gate()\n",
        "    compuerta_oraculo.name = \"Oráculo\"\n",
        "    return compuerta_oraculo"
      ]
    },
    {
      "cell_type": "code",
      "execution_count": null,
      "metadata": {
        "id": "PkDa-I9OLeFS",
        "outputId": "520e4115-c34f-4e3e-830b-78da9a55f561",
        "colab": {
          "base_uri": "https://localhost:8080/"
        }
      },
      "outputs": [
        {
          "output_type": "stream",
          "name": "stdout",
          "text": [
            "Matriz antes de aplicar inversión de fase\n",
            "[[-1.  0.  0.  0.  0.  0.  0.  0.  0.  0.  0.  0.  0.  0.  0.  0.]\n",
            " [ 0. -1.  0.  0.  0.  0.  0.  0.  0.  0.  0.  0.  0.  0.  0.  0.]\n",
            " [ 0.  0. -1.  0.  0.  0.  0.  0.  0.  0.  0.  0.  0.  0.  0.  0.]\n",
            " [ 0.  0.  0. -1.  0.  0.  0.  0.  0.  0.  0.  0.  0.  0.  0.  0.]\n",
            " [ 0.  0.  0.  0. -1.  0.  0.  0.  0.  0.  0.  0.  0.  0.  0.  0.]\n",
            " [ 0.  0.  0.  0.  0. -1.  0.  0.  0.  0.  0.  0.  0.  0.  0.  0.]\n",
            " [ 0.  0.  0.  0.  0.  0. -1.  0.  0.  0.  0.  0.  0.  0.  0.  0.]\n",
            " [ 0.  0.  0.  0.  0.  0.  0. -1.  0.  0.  0.  0.  0.  0.  0.  0.]\n",
            " [ 0.  0.  0.  0.  0.  0.  0.  0. -1.  0.  0.  0.  0.  0.  0.  0.]\n",
            " [ 0.  0.  0.  0.  0.  0.  0.  0.  0. -1.  0.  0.  0.  0.  0.  0.]\n",
            " [ 0.  0.  0.  0.  0.  0.  0.  0.  0.  0. -1.  0.  0.  0.  0.  0.]\n",
            " [ 0.  0.  0.  0.  0.  0.  0.  0.  0.  0.  0. -1.  0.  0.  0.  0.]\n",
            " [ 0.  0.  0.  0.  0.  0.  0.  0.  0.  0.  0.  0. -1.  0.  0.  0.]\n",
            " [ 0.  0.  0.  0.  0.  0.  0.  0.  0.  0.  0.  0.  0. -1.  0.  0.]\n",
            " [ 0.  0.  0.  0.  0.  0.  0.  0.  0.  0.  0.  0.  0.  0. -1.  0.]\n",
            " [ 0.  0.  0.  0.  0.  0.  0.  0.  0.  0.  0.  0.  0.  0.  0. -1.]]\n",
            "\n",
            "Matriz después de aplicar inversión de fase\n",
            "[[ 1.  0.  0.  0.  0.  0.  0.  0.  0.  0.  0.  0.  0.  0.  0.  0.]\n",
            " [ 0. -1.  0.  0.  0.  0.  0.  0.  0.  0.  0.  0.  0.  0.  0.  0.]\n",
            " [ 0.  0. -1.  0.  0.  0.  0.  0.  0.  0.  0.  0.  0.  0.  0.  0.]\n",
            " [ 0.  0.  0. -1.  0.  0.  0.  0.  0.  0.  0.  0.  0.  0.  0.  0.]\n",
            " [ 0.  0.  0.  0. -1.  0.  0.  0.  0.  0.  0.  0.  0.  0.  0.  0.]\n",
            " [ 0.  0.  0.  0.  0. -1.  0.  0.  0.  0.  0.  0.  0.  0.  0.  0.]\n",
            " [ 0.  0.  0.  0.  0.  0. -1.  0.  0.  0.  0.  0.  0.  0.  0.  0.]\n",
            " [ 0.  0.  0.  0.  0.  0.  0. -1.  0.  0.  0.  0.  0.  0.  0.  0.]\n",
            " [ 0.  0.  0.  0.  0.  0.  0.  0. -1.  0.  0.  0.  0.  0.  0.  0.]\n",
            " [ 0.  0.  0.  0.  0.  0.  0.  0.  0. -1.  0.  0.  0.  0.  0.  0.]\n",
            " [ 0.  0.  0.  0.  0.  0.  0.  0.  0.  0. -1.  0.  0.  0.  0.  0.]\n",
            " [ 0.  0.  0.  0.  0.  0.  0.  0.  0.  0.  0. -1.  0.  0.  0.  0.]\n",
            " [ 0.  0.  0.  0.  0.  0.  0.  0.  0.  0.  0.  0. -1.  0.  0.  0.]\n",
            " [ 0.  0.  0.  0.  0.  0.  0.  0.  0.  0.  0.  0.  0. -1.  0.  0.]\n",
            " [ 0.  0.  0.  0.  0.  0.  0.  0.  0.  0.  0.  0.  0.  0. -1.  0.]\n",
            " [ 0.  0.  0.  0.  0.  0.  0.  0.  0.  0.  0.  0.  0.  0.  0. -1.]]\n"
          ]
        }
      ],
      "source": [
        "def inversion_fase(i):\n",
        "    if i == 0:\n",
        "        return 0\n",
        "    else:\n",
        "        return 1\n",
        "\n",
        "matriz = np.diag((-1) * np.ones(2**cantidad_qubits))\n",
        "print(\"Matriz antes de aplicar inversión de fase\")\n",
        "print(matriz)\n",
        "for i in range(matriz.shape[0]):\n",
        "    matriz[i, i] = matriz[i, i] ** inversion_fase(i)\n",
        "print(\"\\nMatriz después de aplicar inversión de fase\")\n",
        "print(matriz)\n",
        "matriz_difusora = UnitaryGate(matriz, label=\"Difusora\")"
      ]
    },
    {
      "cell_type": "markdown",
      "metadata": {
        "id": "P4OznisibOE1"
      },
      "source": [
        "# Paso 3\n",
        "El difusor"
      ]
    },
    {
      "cell_type": "markdown",
      "metadata": {
        "id": "9WhtXm01LeFT"
      },
      "source": [
        "Implementación 1"
      ]
    },
    {
      "cell_type": "markdown",
      "metadata": {
        "id": "uSqcLsVMLeFT"
      },
      "source": [
        "Implementación 2"
      ]
    },
    {
      "cell_type": "code",
      "execution_count": null,
      "metadata": {
        "id": "RIavSI0DLeFT"
      },
      "outputs": [],
      "source": [
        "def difusor():\n",
        "    qc = QuantumCircuit(3)\n",
        "    # aplicar H\n",
        "    for qubit in range(3):\n",
        "        qc.h(qubit)\n",
        "    # aplicar X\n",
        "    for qubit in range(3):\n",
        "        qc.x(qubit)\n",
        "\n",
        "    qc.h(2)\n",
        "    qc.toffoli(0, 1, 2)\n",
        "    qc.h(2)\n",
        "\n",
        "    for qubit in range(3):\n",
        "        qc.x(qubit)\n",
        "\n",
        "    for qubit in range(3):\n",
        "        qc.h(qubit)\n",
        "\n",
        "    qc.draw()\n",
        "    U_s = qc.to_gate()\n",
        "    U_s.mame = \"Inv Fase\"\n",
        "    return U_s\n"
      ]
    },
    {
      "cell_type": "code",
      "execution_count": null,
      "metadata": {
        "colab": {
          "base_uri": "https://localhost:8080/",
          "height": 800
        },
        "id": "1K_8SKUTZY12",
        "outputId": "d94e4db0-b31c-43e6-a554-4a2ecc91d96d"
      },
      "outputs": [
        {
          "output_type": "stream",
          "name": "stdout",
          "text": [
            "Numero óptimo iteraciones:  3\n",
            "Implementacion elegida:  1\n"
          ]
        },
        {
          "output_type": "execute_result",
          "data": {
            "text/plain": [
              "<Figure size 2252.61x953.167 with 1 Axes>"
            ],
            "image/png": "[encoded data removed]"
          },
          "metadata": {},
          "execution_count": 8
        }
      ],
      "source": [
        "i = 0\n",
        "implementacion_elegida = 1    # 1 o 2\n",
        "numero_optimo_iteraciones = int((np.pi / 4) * (cantidad_qubits/len(respuesta)**(1/2) ))\n",
        "print(\"Numero óptimo iteraciones: \", numero_optimo_iteraciones)\n",
        "print(\"Implementacion elegida: \", implementacion_elegida)\n",
        "while i < numero_optimo_iteraciones:\n",
        "\n",
        "   if implementacion_elegida == 1:\n",
        "      mi_circuito.append(matriz_oraculo, [0, 1, 2, 3])\n",
        "      mi_circuito.h([0, 1, 2])\n",
        "      mi_circuito.append(matriz_difusora, [0, 1, 2, 3])\n",
        "      mi_circuito.h([0, 1, 2])\n",
        "\n",
        "   else:\n",
        "      oraculo_gate = compuerta_oraculo(respuesta)\n",
        "      mi_circuito.append(oraculo_gate, [0, 1, 2])\n",
        "      mi_circuito.append(difusor(), [0, 1, 2])\n",
        "\n",
        "   mi_circuito.barrier(0, 1, 2)\n",
        "   i = i + 1\n",
        "\n",
        "mi_circuito.barrier(0, 1, 2)\n",
        "mi_circuito.measure_all()\n",
        "mi_circuito.draw(output='mpl', style={'backgroundcolor': '#EEEEEE'})"
      ]
    },
    {
      "cell_type": "markdown",
      "metadata": {
        "id": "C1PgrKIOvRhK"
      },
      "source": [
        "# Experimento"
      ]
    },
    {
      "cell_type": "code",
      "execution_count": null,
      "metadata": {
        "colab": {
          "base_uri": "https://localhost:8080/",
          "height": 484
        },
        "id": "aoDFv-MavTS4",
        "outputId": "ab73fc09-59e6-4a37-8ce2-b5ad9aaed621"
      },
      "outputs": [
        {
          "output_type": "execute_result",
          "data": {
            "text/plain": [
              "<Figure size 700x500 with 1 Axes>"
            ],
            "image/png": "[encoded data removed]"
          },
          "metadata": {},
          "execution_count": 9
        }
      ],
      "source": [
        "simulacion_qasm = Aer.get_backend('qasm_simulator')\n",
        "resultado = execute(mi_circuito, backend=simulacion_qasm, shots=1000).result()\n",
        "counts = resultado.get_counts()\n",
        "plot_histogram(counts)"
      ]
    },
    {
      "cell_type": "markdown",
      "metadata": {
        "id": "wYFUPuxnvmgL"
      },
      "source": [
        "# Links\n",
        "\n",
        "https://qiskit.org/documentation/tutorials/circuits/3_summary_of_quantum_operations.html\n",
        "\n",
        "https://qiskit.org/documentation/tutorials/algorithms/07_grover_examples.html\n",
        "\n",
        "https://learn.qiskit.org/course/ch-algorithms/grovers-algorithm\n",
        "\n",
        "https://qiskit.org/documentation/tutorials/algorithms/06_grover.html\n",
        "\n",
        "https://towardsdatascience.com/behind-oracles-grovers-algorithm-amplitude-amplification-46b928b46f1e\n",
        "\n",
        "https://quantum.country/search"
      ]
    }
  ],
  "metadata": {
    "colab": {
      "provenance": []
    },
    "kernelspec": {
      "display_name": "cuantica",
      "language": "python",
      "name": "python3"
    },
    "language_info": {
      "codemirror_mode": {
        "name": "ipython",
        "version": 3
      },
      "file_extension": ".py",
      "mimetype": "text/x-python",
      "name": "python",
      "nbconvert_exporter": "python",
      "pygments_lexer": "ipython3",
      "version": "3.11.3"
    },
    "orig_nbformat": 4
  },
  "nbformat": 4,
  "nbformat_minor": 0
}